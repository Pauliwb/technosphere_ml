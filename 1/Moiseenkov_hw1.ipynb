{
 "cells": [
  {
   "cell_type": "markdown",
   "metadata": {},
   "source": [
    "**Общая информация**\n",
    "\n",
    "**Срок сдачи:** 18 октября 2017, 06:00 <br\\>\n",
    "**Штраф за опоздание:** -2 балла после 06:00 18 октября, -4 балла после 06:00 25 октября, -6 баллов после 06:00 1 ноября\n",
    "\n",
    "При отправлении ДЗ указывайте фамилию в названии файла\n",
    "Присылать ДЗ необходимо в виде ссылки на свой github репозиторий в slack @alkhamush\n",
    "\n",
    "Необходимо в slack создать таск в приватный чат:\n",
    "/todo Фамилия Имя ссылка на гитхаб @alkhamush\n",
    "Пример:\n",
    "/todo Ксения Стройкова https://github.com/stroykova/spheremailru/stroykova_hw1.ipynb @alkhamush\n",
    "Дополнительно нужно просто скинуть ссылку в slack в личный чат\n",
    "\n",
    "Используйте данный Ipython Notebook при оформлении домашнего задания."
   ]
  },
  {
   "cell_type": "markdown",
   "metadata": {},
   "source": [
    "###### Задание 1 (2 баллов)\n",
    "Реализовать KNN в классе MyKNeighborsClassifier (обязательное условие: точность не ниже sklearn реализации)\n",
    "Разберитесь самостоятельно, какая мера расстояния используется в KNeighborsClassifier дефолтно и реализуйте свой алгоритм именно с этой мерой. Самостоятельно разберитесь, как считается score из KNeighborsClassifier и реализуйте аналог в своём классе. Score не должен уступать значению KNN из sklearn\n",
    "\n",
    "###### Задание 2 (2 балла)\n",
    "Добиться скорости работы на fit,  predict и predict_proba сравнимой со sklearn для iris и mnist\n",
    "Для этого используем numpy\n",
    "\n",
    "###### Задание 3 (2 балла)\n",
    "Для iris найдите такой параметр n_neighbors, при котором выдаётся наилучший score. Нарисуйте график зависимости score от n_neighbors\n",
    "\n",
    "###### Задание 4 (3 балла)\n",
    "Добавить algorithm='kd_tree' в реализацию KNN (использовать KDTree из sklearn.neighbors). Значение n_neighbors нужно взять из задания 3. Добиться скорости работы на fit,  predict и predict_proba сравнимой со sklearn для iris и mnist\n",
    "Для этого используем numpy. Score не должен уступать значению KNN из sklearn\n",
    "\n",
    "###### Задание 5 (1 балла)\n",
    "Описать для чего нужны следующие библиотеки/классы/функции (список будет ниже)\n",
    "\n",
    "**Штрафные баллы:**\n",
    "\n",
    "1. Невыполнение PEP8 -1 балл\n",
    "2. Отсутствие фамилии в имени скрипта (скрипт должен называться по аналогии со stroykova_hw1.ipynb) -1 балл\n",
    "3. Все строчки должны быть выполнены. Нужно, чтобы output команды можно было увидеть уже в git'е. В противном случае -1 балл\n",
    "4. При оформлении ДЗ нужно пользоваться данным файлом в качестве шаблона. Не нужно удалять и видоизменять структуру кода и текст. В противном случае -1 балл\n"
   ]
  },
  {
   "cell_type": "code",
   "execution_count": 43,
   "metadata": {},
   "outputs": [
    {
     "name": "stdout",
     "output_type": "stream",
     "text": [
      "The pycodestyle_magic extension is already loaded. To reload it, use:\n",
      "  %reload_ext pycodestyle_magic\n"
     ]
    }
   ],
   "source": [
    "import numpy as np\n",
    "import matplotlib.pyplot as plt\n",
    "\n",
    "import seaborn as sns\n",
    "from sklearn import datasets\n",
    "from sklearn.base import ClassifierMixin\n",
    "from sklearn.datasets import fetch_mldata\n",
    "from sklearn.neighbors.base import NeighborsBase, KNeighborsMixin, SupervisedIntegerMixin \n",
    "from sklearn.model_selection import train_test_split\n",
    "from sklearn.neighbors import KNeighborsClassifier, KDTree\n",
    "from scipy import stats\n",
    "%load_ext pycodestyle_magic"
   ]
  },
  {
   "cell_type": "code",
   "execution_count": 91,
   "metadata": {},
   "outputs": [],
   "source": [
    "#%%pycodestyle\n",
    "\n",
    "class MyKNeighborsClassifier(NeighborsBase, KNeighborsMixin,\n",
    "                             SupervisedIntegerMixin, ClassifierMixin):\n",
    "\n",
    "   \n",
    "    def __init__(self, n_neighbors, algorithm='brute'):\n",
    "        self.n_neighbors = n_neighbors\n",
    "        self.algorithm = algorithm\n",
    "\n",
    "    def fit(self, X, y):\n",
    "        self.X_train = np.array(X).astype(float)\n",
    "        self.y_train = np.array(y).astype(int)\n",
    "        self.n_classes = np.unique(self.y_train)\n",
    "        self.norm_distance = (self.X_train ** 2).sum(axis=1).reshape(1, -1)\n",
    "\n",
    "        if self.algorithm == 'kd_tree':\n",
    "            self.kdtree = KDTree(self.X_train, leaf_size=60)\n",
    "\n",
    "\n",
    "    def predict(self, X):\n",
    "    #Predict the class labels for the provided data\n",
    "        close = np.array([])\n",
    "        if self.algorithm == 'kd_tree':\n",
    "            _, close_index = self.kdtree.query(np.array(X).astype(float),k=self.n_neighbors)\n",
    "            close = self.y_train[close_index]\n",
    "\n",
    "        else:\n",
    "            distance = self.calculate_dist(np.array(X).astype(float))\n",
    "            close = self.y_train[np.argsort(distance)[:, :self.n_neighbors]]\n",
    "\n",
    "        return np.apply_along_axis(lambda n: np.bincount(n).argmax(), axis=1, arr=close)\n",
    "            \n",
    "\n",
    "    def predict_proba(self, X):\n",
    "   #Return probability estimates for the test data X.\n",
    "        X = np.array(X).astype(float)\n",
    "        test_size = X.shape[0]\n",
    "        close_index = np.array([])\n",
    "        prediction = np.zeros((test_size, self.n_classes.shape[0]))\n",
    "\n",
    "        if self.algorithm == 'kd_tree':\n",
    "            _, close_index = self.kdtree.query(X, k=self.n_neighbors)\n",
    "\n",
    "        else:\n",
    "            distance = self.calculate_dist(X)\n",
    "            close_index = np.argsort(distance)[:, :self.n_neighbors]\n",
    "\n",
    "        for i in range(test_size):\n",
    "            for j in close_index[i]:\n",
    "                prediction[i][self.y_train[j]] += 1\n",
    "\n",
    "        result = prediction / self.n_neighbors\n",
    "        return result\n",
    "    \n",
    "    \n",
    "    def calculate_dist(self, test_X):\n",
    "        test_norm_distance = (test_X**2).sum(axis=1).reshape(-1, 1)\n",
    "        return np.sqrt(test_norm_distance + self.norm_distance - 2*np.dot(test_X, self.X_train.T))\n",
    "\n",
    "    def score(self, X, y):\n",
    "        y_pred = self.predict(X)\n",
    "        return np.array([1 for i, x in enumerate(y_pred)\n",
    "                        if x == y[i]]).sum(axis=0) / len(y)"
   ]
  },
  {
   "cell_type": "markdown",
   "metadata": {},
   "source": [
    "**IRIS**"
   ]
  },
  {
   "cell_type": "code",
   "execution_count": 92,
   "metadata": {},
   "outputs": [],
   "source": [
    "iris = datasets.load_iris()"
   ]
  },
  {
   "cell_type": "code",
   "execution_count": 93,
   "metadata": {},
   "outputs": [],
   "source": [
    "X_train, X_test, y_train, y_test = train_test_split(iris.data, iris.target, test_size=0.1, stratify=iris.target)"
   ]
  },
  {
   "cell_type": "code",
   "execution_count": 94,
   "metadata": {},
   "outputs": [],
   "source": [
    "clf = KNeighborsClassifier(n_neighbors=2)\n",
    "my_clf = MyKNeighborsClassifier(n_neighbors=2)"
   ]
  },
  {
   "cell_type": "code",
   "execution_count": 95,
   "metadata": {},
   "outputs": [
    {
     "name": "stdout",
     "output_type": "stream",
     "text": [
      "CPU times: user 853 µs, sys: 335 µs, total: 1.19 ms\n",
      "Wall time: 885 µs\n"
     ]
    },
    {
     "data": {
      "text/plain": [
       "KNeighborsClassifier(algorithm='auto', leaf_size=30, metric='minkowski',\n",
       "           metric_params=None, n_jobs=1, n_neighbors=2, p=2,\n",
       "           weights='uniform')"
      ]
     },
     "execution_count": 95,
     "metadata": {},
     "output_type": "execute_result"
    }
   ],
   "source": [
    "%time clf.fit(X_train, y_train)"
   ]
  },
  {
   "cell_type": "code",
   "execution_count": 96,
   "metadata": {},
   "outputs": [
    {
     "name": "stdout",
     "output_type": "stream",
     "text": [
      "CPU times: user 549 µs, sys: 221 µs, total: 770 µs\n",
      "Wall time: 583 µs\n"
     ]
    }
   ],
   "source": [
    "%time my_clf.fit(X_train, y_train)"
   ]
  },
  {
   "cell_type": "code",
   "execution_count": 97,
   "metadata": {},
   "outputs": [
    {
     "name": "stdout",
     "output_type": "stream",
     "text": [
      "CPU times: user 1.16 ms, sys: 304 µs, total: 1.47 ms\n",
      "Wall time: 1.17 ms\n"
     ]
    },
    {
     "data": {
      "text/plain": [
       "array([1, 2, 1, 2, 2, 0, 1, 0, 0, 2, 0, 1, 2, 1, 0])"
      ]
     },
     "execution_count": 97,
     "metadata": {},
     "output_type": "execute_result"
    }
   ],
   "source": [
    "%time clf.predict(X_test)"
   ]
  },
  {
   "cell_type": "code",
   "execution_count": 98,
   "metadata": {},
   "outputs": [
    {
     "name": "stdout",
     "output_type": "stream",
     "text": [
      "CPU times: user 1.06 ms, sys: 681 µs, total: 1.74 ms\n",
      "Wall time: 1 ms\n"
     ]
    },
    {
     "data": {
      "text/plain": [
       "array([1, 2, 1, 2, 2, 0, 1, 0, 0, 2, 0, 1, 2, 1, 0])"
      ]
     },
     "execution_count": 98,
     "metadata": {},
     "output_type": "execute_result"
    }
   ],
   "source": [
    "%time my_clf.predict(X_test)"
   ]
  },
  {
   "cell_type": "code",
   "execution_count": 99,
   "metadata": {},
   "outputs": [
    {
     "name": "stdout",
     "output_type": "stream",
     "text": [
      "CPU times: user 733 µs, sys: 262 µs, total: 995 µs\n",
      "Wall time: 738 µs\n"
     ]
    },
    {
     "data": {
      "text/plain": [
       "array([[0., 1., 0.],\n",
       "       [0., 0., 1.],\n",
       "       [0., 1., 0.],\n",
       "       [0., 0., 1.],\n",
       "       [0., 0., 1.],\n",
       "       [1., 0., 0.],\n",
       "       [0., 1., 0.],\n",
       "       [1., 0., 0.],\n",
       "       [1., 0., 0.],\n",
       "       [0., 0., 1.],\n",
       "       [1., 0., 0.],\n",
       "       [0., 1., 0.],\n",
       "       [0., 0., 1.],\n",
       "       [0., 1., 0.],\n",
       "       [1., 0., 0.]])"
      ]
     },
     "execution_count": 99,
     "metadata": {},
     "output_type": "execute_result"
    }
   ],
   "source": [
    "%time clf.predict_proba(X_test)"
   ]
  },
  {
   "cell_type": "code",
   "execution_count": 100,
   "metadata": {},
   "outputs": [
    {
     "name": "stdout",
     "output_type": "stream",
     "text": [
      "CPU times: user 1.13 ms, sys: 788 µs, total: 1.92 ms\n",
      "Wall time: 1.17 ms\n"
     ]
    },
    {
     "data": {
      "text/plain": [
       "array([[0., 1., 0.],\n",
       "       [0., 0., 1.],\n",
       "       [0., 1., 0.],\n",
       "       [0., 0., 1.],\n",
       "       [0., 0., 1.],\n",
       "       [1., 0., 0.],\n",
       "       [0., 1., 0.],\n",
       "       [1., 0., 0.],\n",
       "       [1., 0., 0.],\n",
       "       [0., 0., 1.],\n",
       "       [1., 0., 0.],\n",
       "       [0., 1., 0.],\n",
       "       [0., 0., 1.],\n",
       "       [0., 1., 0.],\n",
       "       [1., 0., 0.]])"
      ]
     },
     "execution_count": 100,
     "metadata": {},
     "output_type": "execute_result"
    }
   ],
   "source": [
    "%time my_clf.predict_proba(X_test)"
   ]
  },
  {
   "cell_type": "code",
   "execution_count": 101,
   "metadata": {},
   "outputs": [
    {
     "data": {
      "text/plain": [
       "1.0"
      ]
     },
     "execution_count": 101,
     "metadata": {},
     "output_type": "execute_result"
    }
   ],
   "source": [
    "clf.score(X_test, y_test)"
   ]
  },
  {
   "cell_type": "code",
   "execution_count": 102,
   "metadata": {},
   "outputs": [
    {
     "data": {
      "text/plain": [
       "1.0"
      ]
     },
     "execution_count": 102,
     "metadata": {},
     "output_type": "execute_result"
    }
   ],
   "source": [
    "my_clf.score(X_test, y_test)"
   ]
  },
  {
   "cell_type": "markdown",
   "metadata": {},
   "source": [
    "Задание 3"
   ]
  },
  {
   "cell_type": "code",
   "execution_count": 103,
   "metadata": {},
   "outputs": [
    {
     "name": "stderr",
     "output_type": "stream",
     "text": [
      "/Users/P_Moiseenkov/anaconda3/lib/python3.6/site-packages/ipykernel_launcher.py:59: RuntimeWarning: invalid value encountered in sqrt\n"
     ]
    },
    {
     "name": "stdout",
     "output_type": "stream",
     "text": [
      "Optimum quantity of neigbors is 10\n"
     ]
    },
    {
     "data": {
      "image/png": "[encoded data removed]",
      "text/plain": [
       "<Figure size 432x288 with 1 Axes>"
      ]
     },
     "metadata": {},
     "output_type": "display_data"
    }
   ],
   "source": [
    "#%%pycodestyle\n",
    "max_neighbors = 30\n",
    "number_of_tests = 200\n",
    "scores = []\n",
    "\n",
    "for i in range(1, max_neighbors+1):\n",
    "    testing_scores = []\n",
    "    for j in range(number_of_tests):\n",
    "        X_train, X_test, y_train, y_test = train_test_split(\n",
    "            iris.data, iris.target,\n",
    "            test_size=0.1, stratify=iris.target\n",
    "        )\n",
    "        my_clf = MyKNeighborsClassifier(n_neighbors=i)\n",
    "        my_clf.fit(X_train, y_train)\n",
    "        testing_scores.append(my_clf.score(X_test, y_test))\n",
    "    scores.append(np.mean(testing_scores))\n",
    "\n",
    "best_n = np.argmax(scores) + 1\n",
    "print(\"Optimum quantity of neigbors is {}\".format(best_n))\n",
    "\n",
    "plt.plot(range(1, max_neighbors+1), scores, 'ro--')\n",
    "plt.show()"
   ]
  },
  {
   "cell_type": "markdown",
   "metadata": {},
   "source": [
    "**MNIST**"
   ]
  },
  {
   "cell_type": "code",
   "execution_count": 104,
   "metadata": {},
   "outputs": [],
   "source": [
    "mnist = fetch_mldata('MNIST original')"
   ]
  },
  {
   "cell_type": "code",
   "execution_count": 105,
   "metadata": {},
   "outputs": [],
   "source": [
    "X_train, X_test, y_train, y_test = train_test_split(mnist.data, mnist.target, test_size=0.01, stratify=mnist.target)"
   ]
  },
  {
   "cell_type": "code",
   "execution_count": 106,
   "metadata": {},
   "outputs": [],
   "source": [
    "clf = KNeighborsClassifier(n_neighbors=2)\n",
    "my_clf = MyKNeighborsClassifier(n_neighbors=2)"
   ]
  },
  {
   "cell_type": "code",
   "execution_count": 107,
   "metadata": {},
   "outputs": [
    {
     "name": "stdout",
     "output_type": "stream",
     "text": [
      "CPU times: user 35.1 s, sys: 390 ms, total: 35.4 s\n",
      "Wall time: 35.7 s\n"
     ]
    },
    {
     "data": {
      "text/plain": [
       "KNeighborsClassifier(algorithm='auto', leaf_size=30, metric='minkowski',\n",
       "           metric_params=None, n_jobs=1, n_neighbors=2, p=2,\n",
       "           weights='uniform')"
      ]
     },
     "execution_count": 107,
     "metadata": {},
     "output_type": "execute_result"
    }
   ],
   "source": [
    "%time clf.fit(X_train, y_train)"
   ]
  },
  {
   "cell_type": "code",
   "execution_count": 108,
   "metadata": {},
   "outputs": [
    {
     "name": "stdout",
     "output_type": "stream",
     "text": [
      "CPU times: user 647 ms, sys: 514 ms, total: 1.16 s\n",
      "Wall time: 906 ms\n"
     ]
    }
   ],
   "source": [
    "%time my_clf.fit(X_train, y_train)"
   ]
  },
  {
   "cell_type": "code",
   "execution_count": 109,
   "metadata": {},
   "outputs": [
    {
     "name": "stdout",
     "output_type": "stream",
     "text": [
      "CPU times: user 53.1 s, sys: 225 ms, total: 53.3 s\n",
      "Wall time: 53.3 s\n"
     ]
    },
    {
     "data": {
      "text/plain": [
       "array([2., 8., 7., 1., 1., 6., 6., 9., 3., 0., 8., 3., 1., 8., 7., 9., 0.,\n",
       "       5., 3., 5., 6., 9., 0., 0., 7., 4., 6., 5., 0., 0., 4., 7., 3., 2.,\n",
       "       8., 3., 9., 0., 8., 1., 9., 2., 7., 7., 7., 9., 5., 5., 9., 1., 7.,\n",
       "       4., 1., 2., 9., 7., 1., 6., 6., 3., 3., 4., 1., 5., 7., 1., 5., 1.,\n",
       "       3., 1., 0., 2., 3., 8., 2., 2., 3., 4., 8., 6., 8., 7., 4., 9., 2.,\n",
       "       5., 7., 0., 4., 6., 6., 0., 1., 7., 7., 9., 9., 6., 5., 1., 4., 1.,\n",
       "       7., 0., 0., 1., 1., 3., 9., 6., 8., 9., 9., 3., 1., 3., 8., 9., 1.,\n",
       "       9., 1., 9., 0., 4., 0., 8., 3., 5., 9., 3., 6., 3., 3., 7., 6., 6.,\n",
       "       8., 9., 6., 9., 6., 2., 5., 5., 0., 2., 5., 6., 7., 2., 3., 0., 5.,\n",
       "       6., 0., 4., 2., 6., 7., 5., 3., 0., 6., 3., 9., 6., 6., 2., 9., 7.,\n",
       "       1., 4., 7., 7., 5., 2., 4., 5., 1., 8., 3., 5., 1., 0., 9., 2., 6.,\n",
       "       2., 7., 4., 1., 7., 0., 2., 4., 1., 5., 4., 8., 2., 0., 7., 9., 8.,\n",
       "       4., 1., 6., 0., 3., 7., 4., 3., 3., 3., 3., 2., 1., 0., 9., 2., 4.,\n",
       "       9., 8., 8., 7., 0., 0., 7., 8., 9., 7., 2., 2., 3., 2., 2., 7., 6.,\n",
       "       0., 0., 5., 2., 4., 2., 2., 8., 3., 7., 0., 7., 3., 8., 8., 1., 0.,\n",
       "       5., 3., 1., 6., 3., 1., 0., 3., 5., 7., 9., 6., 0., 7., 3., 2., 7.,\n",
       "       9., 6., 1., 3., 8., 1., 0., 4., 0., 9., 2., 0., 4., 4., 8., 8., 3.,\n",
       "       3., 8., 3., 5., 3., 9., 8., 8., 9., 8., 4., 0., 9., 9., 9., 9., 1.,\n",
       "       9., 9., 8., 0., 9., 0., 4., 1., 8., 6., 5., 4., 5., 8., 2., 9., 8.,\n",
       "       6., 7., 6., 1., 7., 6., 2., 4., 9., 4., 4., 9., 8., 7., 3., 6., 2.,\n",
       "       7., 5., 0., 4., 4., 4., 9., 7., 1., 5., 2., 3., 8., 7., 4., 6., 5.,\n",
       "       5., 3., 1., 2., 0., 5., 9., 8., 3., 0., 1., 0., 9., 7., 9., 8., 5.,\n",
       "       8., 8., 7., 5., 4., 0., 0., 9., 9., 9., 9., 6., 5., 6., 3., 1., 6.,\n",
       "       1., 4., 8., 6., 9., 9., 4., 3., 7., 5., 4., 0., 4., 1., 9., 4., 3.,\n",
       "       0., 1., 5., 2., 1., 2., 8., 9., 8., 3., 8., 0., 5., 9., 5., 1., 1.,\n",
       "       7., 4., 8., 4., 6., 3., 0., 4., 1., 0., 3., 2., 1., 4., 1., 6., 1.,\n",
       "       4., 4., 2., 6., 1., 5., 7., 2., 5., 1., 6., 1., 2., 3., 3., 2., 4.,\n",
       "       0., 8., 5., 5., 9., 1., 7., 9., 7., 1., 3., 2., 3., 7., 1., 8., 8.,\n",
       "       4., 2., 7., 8., 3., 2., 1., 8., 4., 3., 8., 6., 2., 5., 8., 1., 0.,\n",
       "       8., 1., 5., 9., 9., 7., 1., 1., 6., 3., 5., 7., 8., 1., 1., 3., 4.,\n",
       "       3., 2., 4., 1., 7., 6., 2., 0., 0., 0., 3., 6., 3., 6., 1., 5., 1.,\n",
       "       1., 4., 0., 2., 6., 8., 8., 1., 4., 7., 9., 4., 1., 2., 3., 1., 7.,\n",
       "       4., 0., 5., 0., 6., 8., 7., 9., 6., 8., 5., 2., 2., 1., 2., 0., 0.,\n",
       "       4., 2., 7., 6., 9., 9., 4., 6., 4., 4., 9., 2., 2., 5., 0., 7., 1.,\n",
       "       6., 9., 8., 7., 6., 3., 4., 6., 6., 3., 6., 1., 1., 0., 7., 4., 1.,\n",
       "       8., 5., 4., 9., 1., 3., 9., 1., 4., 2., 7., 0., 0., 0., 0., 3., 1.,\n",
       "       2., 5., 4., 0., 6., 5., 3., 3., 1., 6., 5., 3., 0., 7., 5., 5., 7.,\n",
       "       8., 9., 2., 6., 7., 8., 1., 9., 1., 2., 3., 9., 7., 9., 8., 2., 2.,\n",
       "       5., 6., 7., 5., 4., 5., 1., 1., 8., 5., 3., 7., 4., 7., 6., 3., 7.,\n",
       "       6., 7., 0., 6., 1., 8., 7., 2., 7., 5., 3., 6., 5., 6., 4., 2., 3.,\n",
       "       7., 4., 5., 2., 0., 8., 6., 6., 4., 4., 0., 2., 4., 5., 2., 1., 7.,\n",
       "       6., 7., 2.])"
      ]
     },
     "execution_count": 109,
     "metadata": {},
     "output_type": "execute_result"
    }
   ],
   "source": [
    "%time clf.predict(X_test)"
   ]
  },
  {
   "cell_type": "code",
   "execution_count": 110,
   "metadata": {},
   "outputs": [
    {
     "name": "stdout",
     "output_type": "stream",
     "text": [
      "CPU times: user 6.65 s, sys: 736 ms, total: 7.38 s\n",
      "Wall time: 6.05 s\n"
     ]
    },
    {
     "data": {
      "text/plain": [
       "array([2, 8, 7, 1, 1, 6, 6, 9, 3, 0, 8, 3, 1, 8, 7, 9, 0, 5, 3, 5, 6, 9,\n",
       "       0, 0, 7, 4, 6, 5, 0, 0, 4, 7, 3, 2, 8, 3, 9, 0, 8, 1, 9, 2, 7, 7,\n",
       "       7, 9, 5, 5, 9, 1, 7, 4, 1, 2, 9, 7, 1, 6, 6, 3, 3, 4, 1, 5, 7, 1,\n",
       "       5, 1, 3, 1, 0, 2, 3, 8, 2, 2, 3, 4, 8, 6, 8, 7, 4, 9, 2, 5, 7, 0,\n",
       "       4, 6, 6, 0, 1, 7, 7, 9, 9, 6, 5, 1, 4, 1, 7, 0, 0, 1, 1, 3, 9, 6,\n",
       "       8, 9, 9, 3, 1, 3, 8, 9, 1, 9, 1, 9, 0, 4, 0, 8, 3, 5, 9, 3, 6, 3,\n",
       "       3, 7, 6, 6, 8, 9, 6, 9, 6, 2, 5, 5, 0, 2, 5, 6, 7, 2, 3, 0, 5, 6,\n",
       "       0, 4, 2, 6, 7, 5, 3, 0, 6, 3, 9, 6, 6, 2, 9, 7, 1, 4, 7, 7, 5, 2,\n",
       "       4, 5, 1, 8, 3, 5, 1, 0, 9, 2, 6, 2, 7, 4, 1, 7, 0, 2, 4, 1, 5, 4,\n",
       "       8, 2, 0, 7, 9, 8, 4, 1, 6, 0, 3, 7, 4, 3, 3, 3, 3, 2, 1, 0, 9, 2,\n",
       "       4, 9, 8, 8, 7, 0, 0, 7, 8, 9, 7, 2, 2, 3, 2, 2, 7, 6, 0, 0, 5, 2,\n",
       "       4, 2, 2, 8, 3, 7, 0, 7, 3, 8, 8, 1, 0, 5, 3, 1, 6, 3, 1, 0, 3, 5,\n",
       "       7, 9, 6, 0, 7, 3, 2, 7, 9, 6, 1, 3, 8, 1, 0, 4, 0, 9, 2, 0, 4, 4,\n",
       "       8, 8, 3, 3, 8, 3, 5, 3, 9, 8, 8, 9, 8, 4, 0, 9, 9, 9, 9, 1, 9, 9,\n",
       "       8, 0, 9, 0, 4, 1, 8, 6, 5, 4, 5, 8, 2, 9, 8, 6, 7, 6, 1, 7, 6, 2,\n",
       "       4, 9, 4, 4, 9, 8, 7, 3, 6, 2, 7, 5, 0, 4, 4, 4, 9, 7, 1, 5, 2, 3,\n",
       "       8, 7, 4, 6, 5, 5, 3, 1, 2, 0, 5, 9, 8, 3, 0, 1, 0, 9, 7, 9, 8, 5,\n",
       "       8, 8, 7, 5, 4, 0, 0, 9, 9, 9, 9, 6, 5, 6, 3, 1, 6, 1, 4, 8, 6, 9,\n",
       "       9, 4, 3, 7, 5, 4, 0, 4, 1, 9, 4, 3, 0, 1, 5, 2, 1, 2, 8, 9, 8, 3,\n",
       "       8, 0, 5, 9, 5, 1, 1, 7, 4, 8, 4, 6, 3, 0, 4, 1, 0, 3, 2, 1, 4, 1,\n",
       "       6, 1, 4, 4, 2, 6, 1, 5, 7, 2, 5, 1, 6, 1, 2, 3, 3, 2, 4, 0, 8, 5,\n",
       "       5, 9, 1, 7, 9, 7, 1, 3, 2, 3, 7, 1, 8, 8, 4, 2, 7, 8, 3, 2, 1, 8,\n",
       "       4, 3, 8, 6, 2, 5, 8, 1, 0, 8, 1, 5, 9, 9, 7, 1, 1, 6, 3, 5, 7, 8,\n",
       "       1, 1, 3, 4, 3, 2, 4, 1, 7, 6, 2, 0, 0, 0, 3, 6, 3, 6, 1, 5, 1, 1,\n",
       "       4, 0, 2, 6, 8, 8, 1, 4, 7, 9, 4, 1, 2, 3, 1, 7, 4, 0, 5, 0, 6, 8,\n",
       "       7, 9, 6, 8, 5, 2, 2, 1, 2, 0, 0, 4, 2, 7, 6, 9, 9, 4, 6, 4, 4, 9,\n",
       "       2, 2, 5, 0, 7, 1, 6, 9, 8, 7, 6, 3, 4, 6, 6, 3, 6, 1, 1, 0, 7, 4,\n",
       "       1, 8, 5, 4, 9, 1, 3, 9, 1, 4, 2, 7, 0, 0, 0, 0, 3, 1, 2, 5, 4, 0,\n",
       "       6, 5, 3, 3, 1, 6, 5, 3, 0, 7, 5, 5, 7, 8, 9, 2, 6, 7, 8, 1, 9, 1,\n",
       "       2, 3, 9, 7, 9, 8, 2, 2, 5, 6, 7, 5, 4, 5, 1, 1, 8, 5, 3, 7, 4, 7,\n",
       "       6, 3, 7, 6, 7, 0, 6, 1, 8, 7, 2, 7, 5, 3, 6, 5, 6, 4, 2, 3, 7, 4,\n",
       "       5, 2, 0, 8, 6, 6, 4, 4, 0, 2, 4, 5, 2, 1, 7, 6, 7, 2])"
      ]
     },
     "execution_count": 110,
     "metadata": {},
     "output_type": "execute_result"
    }
   ],
   "source": [
    "%time my_clf.predict(X_test)"
   ]
  },
  {
   "cell_type": "code",
   "execution_count": 111,
   "metadata": {},
   "outputs": [
    {
     "name": "stdout",
     "output_type": "stream",
     "text": [
      "CPU times: user 54.4 s, sys: 146 ms, total: 54.5 s\n",
      "Wall time: 54.8 s\n"
     ]
    },
    {
     "data": {
      "text/plain": [
       "array([[0., 0., 1., ..., 0., 0., 0.],\n",
       "       [0., 0., 0., ..., 0., 1., 0.],\n",
       "       [0., 0., 0., ..., 1., 0., 0.],\n",
       "       ...,\n",
       "       [0., 0., 0., ..., 0., 0., 0.],\n",
       "       [0., 0., 0., ..., 1., 0., 0.],\n",
       "       [0., 0., 1., ..., 0., 0., 0.]])"
      ]
     },
     "execution_count": 111,
     "metadata": {},
     "output_type": "execute_result"
    }
   ],
   "source": [
    "%time clf.predict_proba(X_test)"
   ]
  },
  {
   "cell_type": "code",
   "execution_count": 112,
   "metadata": {},
   "outputs": [
    {
     "name": "stdout",
     "output_type": "stream",
     "text": [
      "CPU times: user 6.62 s, sys: 647 ms, total: 7.26 s\n",
      "Wall time: 5.97 s\n"
     ]
    },
    {
     "data": {
      "text/plain": [
       "array([[0., 0., 1., ..., 0., 0., 0.],\n",
       "       [0., 0., 0., ..., 0., 1., 0.],\n",
       "       [0., 0., 0., ..., 1., 0., 0.],\n",
       "       ...,\n",
       "       [0., 0., 0., ..., 0., 0., 0.],\n",
       "       [0., 0., 0., ..., 1., 0., 0.],\n",
       "       [0., 0., 1., ..., 0., 0., 0.]])"
      ]
     },
     "execution_count": 112,
     "metadata": {},
     "output_type": "execute_result"
    }
   ],
   "source": [
    "%time my_clf.predict_proba(X_test)"
   ]
  },
  {
   "cell_type": "code",
   "execution_count": 113,
   "metadata": {},
   "outputs": [
    {
     "data": {
      "text/plain": [
       "0.96"
      ]
     },
     "execution_count": 113,
     "metadata": {},
     "output_type": "execute_result"
    }
   ],
   "source": [
    "clf.score(X_test, y_test)"
   ]
  },
  {
   "cell_type": "code",
   "execution_count": 114,
   "metadata": {},
   "outputs": [
    {
     "data": {
      "text/plain": [
       "0.96"
      ]
     },
     "execution_count": 114,
     "metadata": {},
     "output_type": "execute_result"
    }
   ],
   "source": [
    "my_clf.score(X_test, y_test)"
   ]
  },
  {
   "cell_type": "markdown",
   "metadata": {},
   "source": [
    "Задание 4"
   ]
  },
  {
   "cell_type": "code",
   "execution_count": 115,
   "metadata": {},
   "outputs": [],
   "source": [
    "clf = KNeighborsClassifier(n_neighbors=2, algorithm='kd_tree')\n",
    "my_clf = MyKNeighborsClassifier(n_neighbors=2, algorithm='kd_tree')"
   ]
  },
  {
   "cell_type": "code",
   "execution_count": 116,
   "metadata": {},
   "outputs": [],
   "source": [
    "X_train, X_test, y_train, y_test = train_test_split(mnist.data, mnist.target, test_size=0.01, stratify=mnist.target)"
   ]
  },
  {
   "cell_type": "code",
   "execution_count": 117,
   "metadata": {},
   "outputs": [
    {
     "name": "stdout",
     "output_type": "stream",
     "text": [
      "CPU times: user 32.9 s, sys: 302 ms, total: 33.2 s\n",
      "Wall time: 33.2 s\n"
     ]
    },
    {
     "data": {
      "text/plain": [
       "KNeighborsClassifier(algorithm='kd_tree', leaf_size=30, metric='minkowski',\n",
       "           metric_params=None, n_jobs=1, n_neighbors=2, p=2,\n",
       "           weights='uniform')"
      ]
     },
     "execution_count": 117,
     "metadata": {},
     "output_type": "execute_result"
    }
   ],
   "source": [
    "%time clf.fit(X_train, y_train)"
   ]
  },
  {
   "cell_type": "code",
   "execution_count": 118,
   "metadata": {},
   "outputs": [
    {
     "name": "stdout",
     "output_type": "stream",
     "text": [
      "CPU times: user 33 s, sys: 629 ms, total: 33.6 s\n",
      "Wall time: 33 s\n"
     ]
    }
   ],
   "source": [
    "%time my_clf.fit(X_train, y_train)"
   ]
  },
  {
   "cell_type": "code",
   "execution_count": 119,
   "metadata": {},
   "outputs": [
    {
     "name": "stdout",
     "output_type": "stream",
     "text": [
      "CPU times: user 52.6 s, sys: 64.3 ms, total: 52.7 s\n",
      "Wall time: 52.8 s\n"
     ]
    },
    {
     "data": {
      "text/plain": [
       "array([1., 2., 2., 6., 7., 3., 5., 9., 5., 0., 1., 9., 9., 3., 0., 2., 1.,\n",
       "       9., 9., 2., 4., 7., 5., 2., 4., 2., 8., 8., 9., 3., 0., 4., 2., 7.,\n",
       "       6., 3., 4., 4., 9., 1., 6., 3., 8., 9., 9., 9., 5., 0., 6., 1., 0.,\n",
       "       2., 3., 4., 2., 1., 2., 6., 2., 2., 9., 2., 4., 0., 3., 8., 0., 3.,\n",
       "       7., 6., 3., 6., 9., 5., 7., 9., 2., 0., 4., 9., 2., 3., 0., 5., 7.,\n",
       "       5., 5., 4., 5., 4., 0., 6., 1., 0., 3., 4., 4., 2., 1., 4., 9., 8.,\n",
       "       0., 8., 1., 7., 9., 1., 7., 7., 2., 1., 9., 3., 6., 8., 8., 4., 9.,\n",
       "       0., 2., 5., 1., 9., 7., 0., 0., 5., 2., 9., 4., 5., 0., 9., 8., 1.,\n",
       "       9., 7., 0., 4., 4., 4., 4., 2., 1., 1., 7., 7., 3., 3., 1., 7., 1.,\n",
       "       3., 7., 7., 9., 0., 5., 5., 5., 2., 6., 4., 0., 6., 1., 1., 4., 0.,\n",
       "       5., 1., 8., 7., 1., 5., 6., 4., 8., 8., 4., 8., 1., 8., 1., 5., 4.,\n",
       "       0., 5., 6., 1., 6., 6., 7., 0., 1., 2., 8., 6., 9., 5., 3., 5., 4.,\n",
       "       2., 5., 0., 5., 7., 8., 2., 9., 6., 9., 5., 4., 1., 9., 4., 8., 3.,\n",
       "       5., 4., 6., 3., 6., 3., 7., 7., 6., 5., 0., 6., 9., 0., 1., 4., 6.,\n",
       "       8., 3., 4., 7., 1., 5., 1., 0., 6., 0., 1., 1., 9., 7., 2., 9., 7.,\n",
       "       8., 4., 7., 2., 8., 1., 4., 9., 6., 3., 1., 2., 3., 7., 0., 2., 1.,\n",
       "       3., 5., 4., 7., 3., 9., 4., 1., 7., 5., 3., 1., 7., 6., 9., 6., 6.,\n",
       "       8., 4., 2., 1., 2., 1., 1., 2., 0., 7., 6., 8., 5., 9., 7., 1., 5.,\n",
       "       8., 7., 2., 9., 3., 7., 6., 6., 4., 0., 6., 0., 8., 2., 6., 7., 7.,\n",
       "       1., 5., 6., 0., 3., 0., 1., 6., 8., 4., 5., 3., 6., 1., 2., 3., 9.,\n",
       "       1., 2., 5., 0., 9., 8., 1., 4., 7., 8., 9., 3., 5., 1., 7., 9., 5.,\n",
       "       0., 8., 1., 2., 6., 1., 6., 3., 5., 6., 8., 8., 0., 6., 5., 3., 3.,\n",
       "       9., 8., 7., 4., 4., 9., 0., 9., 3., 2., 4., 9., 6., 0., 8., 1., 4.,\n",
       "       0., 7., 8., 8., 9., 7., 7., 3., 1., 5., 8., 5., 6., 0., 0., 9., 8.,\n",
       "       3., 2., 8., 0., 4., 9., 4., 9., 4., 2., 9., 5., 7., 4., 3., 8., 4.,\n",
       "       2., 1., 6., 2., 4., 9., 2., 5., 2., 3., 7., 3., 7., 8., 1., 5., 5.,\n",
       "       4., 9., 4., 7., 5., 4., 7., 1., 9., 3., 7., 4., 6., 6., 4., 7., 6.,\n",
       "       5., 7., 8., 1., 3., 2., 2., 0., 7., 2., 4., 6., 1., 3., 2., 3., 1.,\n",
       "       0., 3., 3., 1., 6., 9., 3., 6., 1., 5., 8., 9., 7., 8., 0., 7., 0.,\n",
       "       5., 5., 8., 2., 0., 0., 7., 3., 7., 3., 8., 5., 3., 7., 2., 1., 2.,\n",
       "       8., 6., 0., 4., 0., 0., 7., 0., 3., 1., 0., 6., 3., 4., 9., 7., 1.,\n",
       "       9., 2., 3., 7., 1., 5., 7., 7., 3., 1., 7., 4., 4., 2., 1., 4., 8.,\n",
       "       0., 0., 8., 0., 2., 6., 0., 5., 7., 8., 9., 0., 4., 0., 8., 2., 8.,\n",
       "       0., 5., 7., 4., 2., 9., 2., 7., 0., 1., 8., 1., 3., 5., 0., 6., 2.,\n",
       "       9., 7., 8., 8., 5., 1., 2., 0., 1., 3., 6., 7., 3., 3., 2., 3., 9.,\n",
       "       3., 2., 4., 8., 1., 7., 2., 8., 0., 2., 1., 8., 7., 7., 0., 6., 0.,\n",
       "       3., 6., 6., 9., 1., 9., 6., 8., 9., 4., 7., 3., 5., 2., 7., 6., 6.,\n",
       "       2., 8., 5., 4., 3., 7., 0., 3., 1., 7., 7., 3., 8., 5., 5., 2., 4.,\n",
       "       8., 1., 1., 7., 0., 5., 3., 1., 8., 7., 0., 1., 1., 6., 5., 8., 6.,\n",
       "       3., 1., 3., 0., 0., 2., 3., 0., 2., 1., 6., 1., 8., 8., 0., 7., 1.,\n",
       "       7., 9., 8., 8., 0., 1., 9., 6., 4., 3., 4., 0., 6., 1., 5., 2., 2.,\n",
       "       5., 5., 8.])"
      ]
     },
     "execution_count": 119,
     "metadata": {},
     "output_type": "execute_result"
    }
   ],
   "source": [
    "%time clf.predict(X_test)"
   ]
  },
  {
   "cell_type": "code",
   "execution_count": 120,
   "metadata": {},
   "outputs": [
    {
     "name": "stdout",
     "output_type": "stream",
     "text": [
      "CPU times: user 45.4 s, sys: 110 ms, total: 45.5 s\n",
      "Wall time: 45.7 s\n"
     ]
    },
    {
     "data": {
      "text/plain": [
       "array([1, 2, 2, 6, 7, 3, 5, 9, 5, 0, 1, 9, 9, 3, 0, 2, 1, 9, 9, 2, 4, 7,\n",
       "       5, 2, 4, 2, 8, 8, 9, 3, 0, 4, 2, 7, 6, 3, 4, 4, 9, 1, 6, 3, 8, 9,\n",
       "       9, 9, 5, 0, 6, 1, 0, 2, 3, 4, 2, 1, 2, 6, 2, 2, 9, 2, 4, 0, 3, 8,\n",
       "       0, 3, 7, 6, 3, 6, 9, 5, 7, 9, 2, 0, 4, 9, 2, 3, 0, 5, 7, 5, 5, 4,\n",
       "       5, 4, 0, 6, 1, 0, 3, 4, 4, 2, 1, 4, 9, 8, 0, 8, 1, 7, 9, 1, 7, 7,\n",
       "       2, 1, 9, 3, 6, 8, 8, 4, 9, 0, 2, 5, 1, 9, 7, 0, 0, 5, 2, 9, 4, 5,\n",
       "       0, 9, 8, 1, 9, 7, 0, 4, 4, 4, 4, 2, 1, 1, 7, 7, 3, 3, 1, 7, 1, 3,\n",
       "       7, 7, 9, 0, 5, 5, 5, 2, 6, 4, 0, 6, 1, 1, 4, 0, 5, 1, 8, 7, 1, 5,\n",
       "       6, 4, 8, 8, 4, 8, 1, 8, 1, 5, 4, 0, 5, 6, 1, 6, 6, 7, 0, 1, 2, 8,\n",
       "       6, 9, 5, 3, 5, 4, 2, 5, 0, 5, 7, 8, 2, 9, 6, 9, 5, 4, 1, 9, 4, 8,\n",
       "       3, 5, 4, 6, 3, 6, 3, 7, 7, 6, 5, 0, 6, 9, 0, 1, 4, 6, 8, 3, 4, 7,\n",
       "       1, 5, 1, 0, 6, 0, 1, 1, 9, 7, 2, 9, 7, 8, 4, 7, 2, 8, 1, 4, 9, 6,\n",
       "       3, 1, 2, 3, 7, 0, 2, 1, 3, 5, 4, 7, 3, 9, 4, 1, 7, 5, 3, 1, 7, 6,\n",
       "       9, 6, 6, 8, 4, 2, 1, 2, 1, 1, 2, 0, 7, 6, 8, 5, 9, 7, 1, 5, 8, 7,\n",
       "       2, 9, 3, 7, 6, 6, 4, 0, 6, 0, 8, 2, 6, 7, 7, 1, 5, 6, 0, 3, 0, 1,\n",
       "       6, 8, 4, 5, 3, 6, 1, 2, 3, 9, 1, 2, 5, 0, 9, 8, 1, 4, 7, 8, 9, 3,\n",
       "       5, 1, 7, 9, 5, 0, 8, 1, 2, 6, 1, 6, 3, 5, 6, 8, 8, 0, 6, 5, 3, 3,\n",
       "       9, 8, 7, 4, 4, 9, 0, 9, 3, 2, 4, 9, 6, 0, 8, 1, 4, 0, 7, 8, 8, 9,\n",
       "       7, 7, 3, 1, 5, 8, 5, 6, 0, 0, 9, 8, 3, 2, 8, 0, 4, 9, 4, 9, 4, 2,\n",
       "       9, 5, 7, 4, 3, 8, 4, 2, 1, 6, 2, 4, 9, 2, 5, 2, 3, 7, 3, 7, 8, 1,\n",
       "       5, 5, 4, 9, 4, 7, 5, 4, 7, 1, 9, 3, 7, 4, 6, 6, 4, 7, 6, 5, 7, 8,\n",
       "       1, 3, 2, 2, 0, 7, 2, 4, 6, 1, 3, 2, 3, 1, 0, 3, 3, 1, 6, 9, 3, 6,\n",
       "       1, 5, 8, 9, 7, 8, 0, 7, 0, 5, 5, 8, 2, 0, 0, 7, 3, 7, 3, 8, 5, 3,\n",
       "       7, 2, 1, 2, 8, 6, 0, 4, 0, 0, 7, 0, 3, 1, 0, 6, 3, 4, 9, 7, 1, 9,\n",
       "       2, 3, 7, 1, 5, 7, 7, 3, 1, 7, 4, 4, 2, 1, 4, 8, 0, 0, 8, 0, 2, 6,\n",
       "       0, 5, 7, 8, 9, 0, 4, 0, 8, 2, 8, 0, 5, 7, 4, 2, 9, 2, 7, 0, 1, 8,\n",
       "       1, 3, 5, 0, 6, 2, 9, 7, 8, 8, 5, 1, 2, 0, 1, 3, 6, 7, 3, 3, 2, 3,\n",
       "       9, 3, 2, 4, 8, 1, 7, 2, 8, 0, 2, 1, 8, 7, 7, 0, 6, 0, 3, 6, 6, 9,\n",
       "       1, 9, 6, 8, 9, 4, 7, 3, 5, 2, 7, 6, 6, 2, 8, 5, 4, 3, 7, 0, 3, 1,\n",
       "       7, 7, 3, 8, 5, 5, 2, 4, 8, 1, 1, 7, 0, 5, 3, 1, 8, 7, 0, 1, 1, 6,\n",
       "       5, 8, 6, 3, 1, 3, 0, 0, 2, 3, 0, 2, 1, 6, 1, 8, 8, 0, 7, 1, 7, 9,\n",
       "       8, 8, 0, 1, 9, 6, 4, 3, 4, 0, 6, 1, 5, 2, 2, 5, 5, 8])"
      ]
     },
     "execution_count": 120,
     "metadata": {},
     "output_type": "execute_result"
    }
   ],
   "source": [
    "%time my_clf.predict(X_test)"
   ]
  },
  {
   "cell_type": "code",
   "execution_count": 121,
   "metadata": {},
   "outputs": [
    {
     "name": "stdout",
     "output_type": "stream",
     "text": [
      "CPU times: user 52.6 s, sys: 59.8 ms, total: 52.7 s\n",
      "Wall time: 52.7 s\n"
     ]
    },
    {
     "data": {
      "text/plain": [
       "array([[0., 1., 0., ..., 0., 0., 0.],\n",
       "       [0., 0., 1., ..., 0., 0., 0.],\n",
       "       [0., 0., 1., ..., 0., 0., 0.],\n",
       "       ...,\n",
       "       [0., 0., 0., ..., 0., 0., 0.],\n",
       "       [0., 0., 0., ..., 0., 0., 0.],\n",
       "       [0., 0., 0., ..., 0., 1., 0.]])"
      ]
     },
     "execution_count": 121,
     "metadata": {},
     "output_type": "execute_result"
    }
   ],
   "source": [
    "%time clf.predict_proba(X_test)"
   ]
  },
  {
   "cell_type": "code",
   "execution_count": 122,
   "metadata": {},
   "outputs": [
    {
     "name": "stdout",
     "output_type": "stream",
     "text": [
      "CPU times: user 44.2 s, sys: 49.9 ms, total: 44.2 s\n",
      "Wall time: 44.3 s\n"
     ]
    },
    {
     "data": {
      "text/plain": [
       "array([[0., 1., 0., ..., 0., 0., 0.],\n",
       "       [0., 0., 1., ..., 0., 0., 0.],\n",
       "       [0., 0., 1., ..., 0., 0., 0.],\n",
       "       ...,\n",
       "       [0., 0., 0., ..., 0., 0., 0.],\n",
       "       [0., 0., 0., ..., 0., 0., 0.],\n",
       "       [0., 0., 0., ..., 0., 1., 0.]])"
      ]
     },
     "execution_count": 122,
     "metadata": {},
     "output_type": "execute_result"
    }
   ],
   "source": [
    "%time my_clf.predict_proba(X_test)"
   ]
  },
  {
   "cell_type": "code",
   "execution_count": 123,
   "metadata": {},
   "outputs": [
    {
     "data": {
      "text/plain": [
       "0.9671428571428572"
      ]
     },
     "execution_count": 123,
     "metadata": {},
     "output_type": "execute_result"
    }
   ],
   "source": [
    "clf.score(X_test, y_test)"
   ]
  },
  {
   "cell_type": "code",
   "execution_count": 124,
   "metadata": {},
   "outputs": [
    {
     "data": {
      "text/plain": [
       "0.9671428571428572"
      ]
     },
     "execution_count": 124,
     "metadata": {},
     "output_type": "execute_result"
    }
   ],
   "source": [
    "my_clf.score(X_test, y_test)"
   ]
  },
  {
   "cell_type": "markdown",
   "metadata": {},
   "source": [
    "Задание 5"
   ]
  },
  {
   "cell_type": "code",
   "execution_count": 66,
   "metadata": {},
   "outputs": [],
   "source": [
    "# seaborn - библиотека, основанная на matplotlib для визуализации данных. Проще, чем matplotlib\n",
    "\n",
    "# matplotlib - библиотека для визуализации данных \n",
    "\n",
    "# train_test_split - с помощью этой функции можно разбиить исходную выборку данных на части: ренировочную и тестовую\n",
    "\n",
    "# Pipelin%load_ext e (from sklearn.pipeline import Pipeline) - используетсядля послежовательного преобразования данных\n",
    "\n",
    "# StandardScaler (from sklearn.preprocessing import StandardScaler) - Стандартизация данных: \n",
    "#распределение будет иметь среднее значение 0 и стандартное отклонение 1\n",
    "\n",
    "# ClassifierMixin -  Базовый класс для всех классификаторов sklearn\n",
    "\n",
    "# NeighborsBase - базовый класс для knn\n",
    "\n",
    "# KNeighborsMixin - базовый класс для knn, содаржащий поиск соседей\n",
    "\n",
    "# SupervisedIntegerMixin - базовый класс, содержащий метод fit"
   ]
  },
  {
   "cell_type": "code",
   "execution_count": null,
   "metadata": {},
   "outputs": [],
   "source": []
  }
 ],
 "metadata": {
  "kernelspec": {
   "display_name": "Python 3",
   "language": "python",
   "name": "python3"
  },
  "language_info": {
   "codemirror_mode": {
    "name": "ipython",
    "version": 3
   },
   "file_extension": ".py",
   "mimetype": "text/x-python",
   "name": "python",
   "nbconvert_exporter": "python",
   "pygments_lexer": "ipython3",
   "version": "3.6.5"
  }
 },
 "nbformat": 4,
 "nbformat_minor": 2
}
